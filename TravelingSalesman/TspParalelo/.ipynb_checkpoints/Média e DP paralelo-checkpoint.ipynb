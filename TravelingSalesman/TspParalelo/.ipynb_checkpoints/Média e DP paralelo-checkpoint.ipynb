{
 "cells": [
  {
   "cell_type": "markdown",
   "id": "deaba389",
   "metadata": {},
   "source": [
    "# Paralelo 1 thread entrada 15"
   ]
  },
  {
   "cell_type": "code",
   "execution_count": null,
   "id": "f7685368",
   "metadata": {},
   "outputs": [],
   "source": [
    "import numpy as np\n",
    "\n",
    "# Função para calcular a média e desvio padrão\n",
    "def calcular_media_desvio(dados):\n",
    "    media = np.mean(dados)\n",
    "    desvio_padrao = np.std(dados)\n",
    "    return media, desvio_padrao\n",
    "\n",
    "# Leitura do arquivo\n",
    "with open('saida_paralela_1threads15.txt', 'r') as arquivo:\n",
    "    # Lendo a primeira linha de metadados\n",
    "    metadados = arquivo.readline().strip().split()\n",
    "    # Inicializando listas para armazenar os dados\n",
    "    dados_seq = []\n",
    "    dados_par = []\n",
    "    dados_tot = []\n",
    "\n",
    "    # Lendo os dados\n",
    "    for _ in range(20):\n",
    "        linha = arquivo.readline().strip().split()\n",
    "        dados_seq.append(float(linha[1]))\n",
    "        dados_par.append(float(linha[2]))\n",
    "        dados_tot.append(float(linha[3]))\n",
    "\n",
    "# Calculando média e desvio padrão\n",
    "media_seq, desvio_seq = calcular_media_desvio(dados_seq)\n",
    "media_par, desvio_par = calcular_media_desvio(dados_par)\n",
    "media_tot, desvio_tot = calcular_media_desvio(dados_tot)\n",
    "\n",
    "# Imprimindo os resultados\n",
    "print(f'Média da sequência (seq): {media_seq}, Desvio Padrão: {desvio_seq}')\n",
    "print(f'Média do par (par): {media_par}, Desvio Padrão: {desvio_par}')\n",
    "print(f'Média total (tot): {media_tot}, Desvio Padrão: {desvio_tot}')"
   ]
  },
  {
   "cell_type": "markdown",
   "id": "5962b4a6",
   "metadata": {},
   "source": [
    "# Paralelo 1 thread entrada 16"
   ]
  },
  {
   "cell_type": "code",
   "execution_count": null,
   "id": "98079f18",
   "metadata": {},
   "outputs": [],
   "source": [
    "import numpy as np\n",
    "\n",
    "# Função para calcular a média e desvio padrão\n",
    "def calcular_media_desvio(dados):\n",
    "    media = np.mean(dados)\n",
    "    desvio_padrao = np.std(dados)\n",
    "    return media, desvio_padrao\n",
    "\n",
    "# Leitura do arquivo\n",
    "with open('saida_paralela_1threads16.txt', 'r') as arquivo:\n",
    "    # Lendo a primeira linha de metadados\n",
    "    metadados = arquivo.readline().strip().split()\n",
    "    # Inicializando listas para armazenar os dados\n",
    "    dados_seq = []\n",
    "    dados_par = []\n",
    "    dados_tot = []\n",
    "\n",
    "    # Lendo os dados\n",
    "    for _ in range(20):\n",
    "        linha = arquivo.readline().strip().split()\n",
    "        dados_seq.append(float(linha[1]))\n",
    "        dados_par.append(float(linha[2]))\n",
    "        dados_tot.append(float(linha[3]))\n",
    "\n",
    "# Calculando média e desvio padrão\n",
    "media_seq, desvio_seq = calcular_media_desvio(dados_seq)\n",
    "media_par, desvio_par = calcular_media_desvio(dados_par)\n",
    "media_tot, desvio_tot = calcular_media_desvio(dados_tot)\n",
    "\n",
    "# Imprimindo os resultados\n",
    "print(f'Média da sequência (seq): {media_seq}, Desvio Padrão: {desvio_seq}')\n",
    "print(f'Média do par (par): {media_par}, Desvio Padrão: {desvio_par}')\n",
    "print(f'Média total (tot): {media_tot}, Desvio Padrão: {desvio_tot}')"
   ]
  },
  {
   "cell_type": "markdown",
   "id": "d199524b",
   "metadata": {},
   "source": [
    "# Paralelo 1 thread entrada 17"
   ]
  },
  {
   "cell_type": "code",
   "execution_count": null,
   "id": "c47351a7",
   "metadata": {},
   "outputs": [],
   "source": [
    "import numpy as np\n",
    "\n",
    "# Função para calcular a média e desvio padrão\n",
    "def calcular_media_desvio(dados):\n",
    "    media = np.mean(dados)\n",
    "    desvio_padrao = np.std(dados)\n",
    "    return media, desvio_padrao\n",
    "\n",
    "# Leitura do arquivo\n",
    "with open('saida_paralela_1threads17.txt', 'r') as arquivo:\n",
    "    # Lendo a primeira linha de metadados\n",
    "    metadados = arquivo.readline().strip().split()\n",
    "    # Inicializando listas para armazenar os dados\n",
    "    dados_seq = []\n",
    "    dados_par = []\n",
    "    dados_tot = []\n",
    "\n",
    "    # Lendo os dados\n",
    "    for _ in range(20):\n",
    "        linha = arquivo.readline().strip().split()\n",
    "        dados_seq.append(float(linha[1]))\n",
    "        dados_par.append(float(linha[2]))\n",
    "        dados_tot.append(float(linha[3]))\n",
    "\n",
    "# Calculando média e desvio padrão\n",
    "media_seq, desvio_seq = calcular_media_desvio(dados_seq)\n",
    "media_par, desvio_par = calcular_media_desvio(dados_par)\n",
    "media_tot, desvio_tot = calcular_media_desvio(dados_tot)\n",
    "\n",
    "# Imprimindo os resultados\n",
    "print(f'Média da sequência (seq): {media_seq}, Desvio Padrão: {desvio_seq}')\n",
    "print(f'Média do par (par): {media_par}, Desvio Padrão: {desvio_par}')\n",
    "print(f'Média total (tot): {media_tot}, Desvio Padrão: {desvio_tot}')"
   ]
  },
  {
   "cell_type": "markdown",
   "id": "22a246d8",
   "metadata": {},
   "source": [
    "# Paralelo 2 threads entrada 15"
   ]
  },
  {
   "cell_type": "code",
   "execution_count": null,
   "id": "f8038b63",
   "metadata": {},
   "outputs": [],
   "source": [
    "import numpy as np\n",
    "\n",
    "# Função para calcular a média e desvio padrão\n",
    "def calcular_media_desvio(dados):\n",
    "    media = np.mean(dados)\n",
    "    desvio_padrao = np.std(dados)\n",
    "    return media, desvio_padrao\n",
    "\n",
    "# Leitura do arquivo\n",
    "with open('saida_paralela_2threads15.txt', 'r') as arquivo:\n",
    "    # Lendo a primeira linha de metadados\n",
    "    metadados = arquivo.readline().strip().split()\n",
    "    # Inicializando listas para armazenar os dados\n",
    "    dados_seq = []\n",
    "    dados_par = []\n",
    "    dados_tot = []\n",
    "\n",
    "    # Lendo os dados\n",
    "    for _ in range(20):\n",
    "        linha = arquivo.readline().strip().split()\n",
    "        dados_seq.append(float(linha[1]))\n",
    "        dados_par.append(float(linha[2]))\n",
    "        dados_tot.append(float(linha[3]))\n",
    "\n",
    "# Calculando média e desvio padrão\n",
    "media_seq, desvio_seq = calcular_media_desvio(dados_seq)\n",
    "media_par, desvio_par = calcular_media_desvio(dados_par)\n",
    "media_tot, desvio_tot = calcular_media_desvio(dados_tot)\n",
    "\n",
    "# Imprimindo os resultados\n",
    "print(f'Média da sequência (seq): {media_seq}, Desvio Padrão: {desvio_seq}')\n",
    "print(f'Média do par (par): {media_par}, Desvio Padrão: {desvio_par}')\n",
    "print(f'Média total (tot): {media_tot}, Desvio Padrão: {desvio_tot}')"
   ]
  },
  {
   "cell_type": "markdown",
   "id": "e72f7d45",
   "metadata": {},
   "source": [
    "# Paralelo 2 threads entrada 16"
   ]
  },
  {
   "cell_type": "code",
   "execution_count": null,
   "id": "e8a2ef49",
   "metadata": {},
   "outputs": [],
   "source": [
    "import numpy as np\n",
    "\n",
    "# Função para calcular a média e desvio padrão\n",
    "def calcular_media_desvio(dados):\n",
    "    media = np.mean(dados)\n",
    "    desvio_padrao = np.std(dados)\n",
    "    return media, desvio_padrao\n",
    "\n",
    "# Leitura do arquivo\n",
    "with open('saida_paralela_2threads16.txt', 'r') as arquivo:\n",
    "    # Lendo a primeira linha de metadados\n",
    "    metadados = arquivo.readline().strip().split()\n",
    "    # Inicializando listas para armazenar os dados\n",
    "    dados_seq = []\n",
    "    dados_par = []\n",
    "    dados_tot = []\n",
    "\n",
    "    # Lendo os dados\n",
    "    for _ in range(20):\n",
    "        linha = arquivo.readline().strip().split()\n",
    "        dados_seq.append(float(linha[1]))\n",
    "        dados_par.append(float(linha[2]))\n",
    "        dados_tot.append(float(linha[3]))\n",
    "\n",
    "# Calculando média e desvio padrão\n",
    "media_seq, desvio_seq = calcular_media_desvio(dados_seq)\n",
    "media_par, desvio_par = calcular_media_desvio(dados_par)\n",
    "media_tot, desvio_tot = calcular_media_desvio(dados_tot)\n",
    "\n",
    "# Imprimindo os resultados\n",
    "print(f'Média da sequência (seq): {media_seq}, Desvio Padrão: {desvio_seq}')\n",
    "print(f'Média do par (par): {media_par}, Desvio Padrão: {desvio_par}')\n",
    "print(f'Média total (tot): {media_tot}, Desvio Padrão: {desvio_tot}')"
   ]
  },
  {
   "cell_type": "markdown",
   "id": "5cf5c883",
   "metadata": {},
   "source": [
    "# Paralelo 2 threads entrada 17"
   ]
  },
  {
   "cell_type": "code",
   "execution_count": null,
   "id": "cc25f9bb",
   "metadata": {},
   "outputs": [],
   "source": [
    "import numpy as np\n",
    "\n",
    "# Função para calcular a média e desvio padrão\n",
    "def calcular_media_desvio(dados):\n",
    "    media = np.mean(dados)\n",
    "    desvio_padrao = np.std(dados)\n",
    "    return media, desvio_padrao\n",
    "\n",
    "# Leitura do arquivo\n",
    "with open('saida_paralela_2threads17.txt', 'r') as arquivo:\n",
    "    # Lendo a primeira linha de metadados\n",
    "    metadados = arquivo.readline().strip().split()\n",
    "    # Inicializando listas para armazenar os dados\n",
    "    dados_seq = []\n",
    "    dados_par = []\n",
    "    dados_tot = []\n",
    "\n",
    "    # Lendo os dados\n",
    "    for _ in range(20):\n",
    "        linha = arquivo.readline().strip().split()\n",
    "        dados_seq.append(float(linha[1]))\n",
    "        dados_par.append(float(linha[2]))\n",
    "        dados_tot.append(float(linha[3]))\n",
    "\n",
    "# Calculando média e desvio padrão\n",
    "media_seq, desvio_seq = calcular_media_desvio(dados_seq)\n",
    "media_par, desvio_par = calcular_media_desvio(dados_par)\n",
    "media_tot, desvio_tot = calcular_media_desvio(dados_tot)\n",
    "\n",
    "# Imprimindo os resultados\n",
    "print(f'Média da sequência (seq): {media_seq}, Desvio Padrão: {desvio_seq}')\n",
    "print(f'Média do par (par): {media_par}, Desvio Padrão: {desvio_par}')\n",
    "print(f'Média total (tot): {media_tot}, Desvio Padrão: {desvio_tot}')"
   ]
  },
  {
   "cell_type": "markdown",
   "id": "2913f952",
   "metadata": {},
   "source": [
    "# Paralelo 4 threads entrada "
   ]
  },
  {
   "cell_type": "code",
   "execution_count": null,
   "id": "dae2b9b8",
   "metadata": {},
   "outputs": [],
   "source": [
    "import numpy as np\n",
    "\n",
    "# Função para calcular a média e desvio padrão\n",
    "def calcular_media_desvio(dados):\n",
    "    media = np.mean(dados)\n",
    "    desvio_padrao = np.std(dados)\n",
    "    return media, desvio_padrao\n",
    "\n",
    "# Leitura do arquivo\n",
    "with open('15saida_paralela_mathread15.txt', 'r') as arquivo:\n",
    "    # Lendo a primeira linha de metadados\n",
    "    metadados = arquivo.readline().strip().split()\n",
    "    # Inicializando listas para armazenar os dados\n",
    "    dados_seq = []\n",
    "    dados_par = []\n",
    "    dados_tot = []\n",
    "\n",
    "    # Lendo os dados\n",
    "    for _ in range(20):\n",
    "        linha = arquivo.readline().strip().split()\n",
    "        dados_seq.append(float(linha[1]))\n",
    "        dados_par.append(float(linha[2]))\n",
    "        dados_tot.append(float(linha[3]))\n",
    "\n",
    "# Calculando média e desvio padrão\n",
    "media_seq, desvio_seq = calcular_media_desvio(dados_seq)\n",
    "media_par, desvio_par = calcular_media_desvio(dados_par)\n",
    "media_tot, desvio_tot = calcular_media_desvio(dados_tot)\n",
    "\n",
    "# Imprimindo os resultados\n",
    "print(f'Média da sequência (seq): {media_seq}, Desvio Padrão: {desvio_seq}')\n",
    "print(f'Média do par (par): {media_par}, Desvio Padrão: {desvio_par}')\n",
    "print(f'Média total (tot): {media_tot}, Desvio Padrão: {desvio_tot}')"
   ]
  },
  {
   "cell_type": "markdown",
   "id": "712d77dd",
   "metadata": {},
   "source": [
    "# Paralelo 4 threads entrada 16"
   ]
  },
  {
   "cell_type": "code",
   "execution_count": null,
   "id": "7d948c8f",
   "metadata": {},
   "outputs": [],
   "source": []
  },
  {
   "cell_type": "markdown",
   "id": "4f804e25",
   "metadata": {},
   "source": [
    "# Paralelo 4 threads entrada 17"
   ]
  },
  {
   "cell_type": "code",
   "execution_count": null,
   "id": "2533ecac",
   "metadata": {},
   "outputs": [],
   "source": []
  }
 ],
 "metadata": {
  "kernelspec": {
   "display_name": "Python 3 (ipykernel)",
   "language": "python",
   "name": "python3"
  },
  "language_info": {
   "codemirror_mode": {
    "name": "ipython",
    "version": 3
   },
   "file_extension": ".py",
   "mimetype": "text/x-python",
   "name": "python",
   "nbconvert_exporter": "python",
   "pygments_lexer": "ipython3",
   "version": "3.9.13"
  }
 },
 "nbformat": 4,
 "nbformat_minor": 5
}
