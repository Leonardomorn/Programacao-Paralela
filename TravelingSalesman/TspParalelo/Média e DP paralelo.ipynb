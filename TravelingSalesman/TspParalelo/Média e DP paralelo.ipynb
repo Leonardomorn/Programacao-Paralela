{
 "cells": [
  {
   "cell_type": "markdown",
   "id": "08be5fae",
   "metadata": {},
   "source": [
    "# Paralelo 1 thread entrada 15"
   ]
  },
  {
   "cell_type": "code",
   "execution_count": 1,
   "id": "ab3e640b",
   "metadata": {},
   "outputs": [
    {
     "name": "stdout",
     "output_type": "stream",
     "text": [
      "Média da sequência (seq): 0.0001191, Desvio Padrão: 1.6813387523042464e-05\n",
      "Média do par (par): 36.1416844, Desvio Padrão: 0.028976777117892344\n",
      "Média total (tot): 36.141803749999994, Desvio Padrão: 0.028965089592257198\n"
     ]
    }
   ],
   "source": [
    "import numpy as np\n",
    "\n",
    "# Função para calcular a média e desvio padrão\n",
    "def calcular_media_desvio(dados):\n",
    "    media = np.mean(dados)\n",
    "    desvio_padrao = np.std(dados)\n",
    "    return media, desvio_padrao\n",
    "\n",
    "# Leitura do arquivo\n",
    "with open('saida_paralela_1threads15.txt', 'r') as arquivo:\n",
    "    # Lendo a primeira linha de metadados\n",
    "    metadados = arquivo.readline().strip().split()\n",
    "    # Inicializando listas para armazenar os dados\n",
    "    dados_seq = []\n",
    "    dados_par = []\n",
    "    dados_tot = []\n",
    "\n",
    "    # Lendo os dados\n",
    "    for _ in range(20):\n",
    "        linha = arquivo.readline().strip().split()\n",
    "        dados_seq.append(float(linha[1]))\n",
    "        dados_par.append(float(linha[2]))\n",
    "        dados_tot.append(float(linha[3]))\n",
    "\n",
    "# Calculando média e desvio padrão\n",
    "media_seq, desvio_seq = calcular_media_desvio(dados_seq)\n",
    "media_par, desvio_par = calcular_media_desvio(dados_par)\n",
    "media_tot, desvio_tot = calcular_media_desvio(dados_tot)\n",
    "\n",
    "# Imprimindo os resultados\n",
    "print(f'Média da sequência (seq): {media_seq}, Desvio Padrão: {desvio_seq}')\n",
    "print(f'Média do par (par): {media_par}, Desvio Padrão: {desvio_par}')\n",
    "print(f'Média total (tot): {media_tot}, Desvio Padrão: {desvio_tot}')"
   ]
  },
  {
   "cell_type": "markdown",
   "id": "efedb3e2",
   "metadata": {},
   "source": [
    "# Paralelo 1 thread entrada 16"
   ]
  },
  {
   "cell_type": "code",
   "execution_count": 2,
   "id": "62e89826",
   "metadata": {},
   "outputs": [
    {
     "name": "stdout",
     "output_type": "stream",
     "text": [
      "Média da sequência (seq): 0.0001256, Desvio Padrão: 1.9316832038406295e-05\n",
      "Média do par (par): 74.86792335, Desvio Padrão: 0.0711455404661998\n",
      "Média total (tot): 74.86804935, Desvio Padrão: 0.071145955503649\n"
     ]
    }
   ],
   "source": [
    "import numpy as np\n",
    "\n",
    "# Função para calcular a média e desvio padrão\n",
    "def calcular_media_desvio(dados):\n",
    "    media = np.mean(dados)\n",
    "    desvio_padrao = np.std(dados)\n",
    "    return media, desvio_padrao\n",
    "\n",
    "# Leitura do arquivo\n",
    "with open('saida_paralela_1threads16.txt', 'r') as arquivo:\n",
    "    # Lendo a primeira linha de metadados\n",
    "    metadados = arquivo.readline().strip().split()\n",
    "    # Inicializando listas para armazenar os dados\n",
    "    dados_seq = []\n",
    "    dados_par = []\n",
    "    dados_tot = []\n",
    "\n",
    "    # Lendo os dados\n",
    "    for _ in range(20):\n",
    "        linha = arquivo.readline().strip().split()\n",
    "        dados_seq.append(float(linha[1]))\n",
    "        dados_par.append(float(linha[2]))\n",
    "        dados_tot.append(float(linha[3]))\n",
    "\n",
    "# Calculando média e desvio padrão\n",
    "media_seq, desvio_seq = calcular_media_desvio(dados_seq)\n",
    "media_par, desvio_par = calcular_media_desvio(dados_par)\n",
    "media_tot, desvio_tot = calcular_media_desvio(dados_tot)\n",
    "\n",
    "# Imprimindo os resultados\n",
    "print(f'Média da sequência (seq): {media_seq}, Desvio Padrão: {desvio_seq}')\n",
    "print(f'Média do par (par): {media_par}, Desvio Padrão: {desvio_par}')\n",
    "print(f'Média total (tot): {media_tot}, Desvio Padrão: {desvio_tot}')"
   ]
  },
  {
   "cell_type": "markdown",
   "id": "c8ffd278",
   "metadata": {},
   "source": [
    "# Paralelo 1 thread entrada 17"
   ]
  },
  {
   "cell_type": "code",
   "execution_count": 3,
   "id": "6156387a",
   "metadata": {},
   "outputs": [
    {
     "name": "stdout",
     "output_type": "stream",
     "text": [
      "Média da sequência (seq): 0.00012984999999999998, Desvio Padrão: 2.486418106433429e-05\n",
      "Média do par (par): 165.95468175000002, Desvio Padrão: 0.09052554821920361\n",
      "Média total (tot): 165.954812, Desvio Padrão: 0.09051735115048538\n"
     ]
    }
   ],
   "source": [
    "import numpy as np\n",
    "\n",
    "# Função para calcular a média e desvio padrão\n",
    "def calcular_media_desvio(dados):\n",
    "    media = np.mean(dados)\n",
    "    desvio_padrao = np.std(dados)\n",
    "    return media, desvio_padrao\n",
    "\n",
    "# Leitura do arquivo\n",
    "with open('saida_paralela_1threads17.txt', 'r') as arquivo:\n",
    "    # Lendo a primeira linha de metadados\n",
    "    metadados = arquivo.readline().strip().split()\n",
    "    # Inicializando listas para armazenar os dados\n",
    "    dados_seq = []\n",
    "    dados_par = []\n",
    "    dados_tot = []\n",
    "\n",
    "    # Lendo os dados\n",
    "    for _ in range(20):\n",
    "        linha = arquivo.readline().strip().split()\n",
    "        dados_seq.append(float(linha[1]))\n",
    "        dados_par.append(float(linha[2]))\n",
    "        dados_tot.append(float(linha[3]))\n",
    "\n",
    "# Calculando média e desvio padrão\n",
    "media_seq, desvio_seq = calcular_media_desvio(dados_seq)\n",
    "media_par, desvio_par = calcular_media_desvio(dados_par)\n",
    "media_tot, desvio_tot = calcular_media_desvio(dados_tot)\n",
    "\n",
    "# Imprimindo os resultados\n",
    "print(f'Média da sequência (seq): {media_seq}, Desvio Padrão: {desvio_seq}')\n",
    "print(f'Média do par (par): {media_par}, Desvio Padrão: {desvio_par}')\n",
    "print(f'Média total (tot): {media_tot}, Desvio Padrão: {desvio_tot}')"
   ]
  },
  {
   "cell_type": "markdown",
   "id": "cd43f683",
   "metadata": {},
   "source": [
    "# Paralelo 2 threads entrada 15"
   ]
  },
  {
   "cell_type": "code",
   "execution_count": 4,
   "id": "40f8d5c0",
   "metadata": {},
   "outputs": [
    {
     "name": "stdout",
     "output_type": "stream",
     "text": [
      "Média da sequência (seq): 0.00012124999999999998, Desvio Padrão: 2.085635394789799e-05\n",
      "Média do par (par): 36.15520935, Desvio Padrão: 0.04067657545476834\n",
      "Média total (tot): 36.15533075, Desvio Padrão: 0.04066157550916555\n"
     ]
    }
   ],
   "source": [
    "import numpy as np\n",
    "\n",
    "# Função para calcular a média e desvio padrão\n",
    "def calcular_media_desvio(dados):\n",
    "    media = np.mean(dados)\n",
    "    desvio_padrao = np.std(dados)\n",
    "    return media, desvio_padrao\n",
    "\n",
    "# Leitura do arquivo\n",
    "with open('saida_paralela_2threads15.txt', 'r') as arquivo:\n",
    "    # Lendo a primeira linha de metadados\n",
    "    metadados = arquivo.readline().strip().split()\n",
    "    # Inicializando listas para armazenar os dados\n",
    "    dados_seq = []\n",
    "    dados_par = []\n",
    "    dados_tot = []\n",
    "\n",
    "    # Lendo os dados\n",
    "    for _ in range(20):\n",
    "        linha = arquivo.readline().strip().split()\n",
    "        dados_seq.append(float(linha[1]))\n",
    "        dados_par.append(float(linha[2]))\n",
    "        dados_tot.append(float(linha[3]))\n",
    "\n",
    "# Calculando média e desvio padrão\n",
    "media_seq, desvio_seq = calcular_media_desvio(dados_seq)\n",
    "media_par, desvio_par = calcular_media_desvio(dados_par)\n",
    "media_tot, desvio_tot = calcular_media_desvio(dados_tot)\n",
    "\n",
    "# Imprimindo os resultados\n",
    "print(f'Média da sequência (seq): {media_seq}, Desvio Padrão: {desvio_seq}')\n",
    "print(f'Média do par (par): {media_par}, Desvio Padrão: {desvio_par}')\n",
    "print(f'Média total (tot): {media_tot}, Desvio Padrão: {desvio_tot}')"
   ]
  },
  {
   "cell_type": "markdown",
   "id": "9839a56c",
   "metadata": {},
   "source": [
    "# Paralelo 2 threads entrada 16"
   ]
  },
  {
   "cell_type": "code",
   "execution_count": 5,
   "id": "4759ca5f",
   "metadata": {},
   "outputs": [
    {
     "name": "stdout",
     "output_type": "stream",
     "text": [
      "Média da sequência (seq): 0.00012704999999999997, Desvio Padrão: 1.7956823215702714e-05\n",
      "Média do par (par): 74.88220795000001, Desvio Padrão: 0.060365617806394566\n",
      "Média total (tot): 74.8823353, Desvio Padrão: 0.06035685311967478\n"
     ]
    }
   ],
   "source": [
    "import numpy as np\n",
    "\n",
    "# Função para calcular a média e desvio padrão\n",
    "def calcular_media_desvio(dados):\n",
    "    media = np.mean(dados)\n",
    "    desvio_padrao = np.std(dados)\n",
    "    return media, desvio_padrao\n",
    "\n",
    "# Leitura do arquivo\n",
    "with open('saida_paralela_2threads16.txt', 'r') as arquivo:\n",
    "    # Lendo a primeira linha de metadados\n",
    "    metadados = arquivo.readline().strip().split()\n",
    "    # Inicializando listas para armazenar os dados\n",
    "    dados_seq = []\n",
    "    dados_par = []\n",
    "    dados_tot = []\n",
    "\n",
    "    # Lendo os dados\n",
    "    for _ in range(20):\n",
    "        linha = arquivo.readline().strip().split()\n",
    "        dados_seq.append(float(linha[1]))\n",
    "        dados_par.append(float(linha[2]))\n",
    "        dados_tot.append(float(linha[3]))\n",
    "\n",
    "# Calculando média e desvio padrão\n",
    "media_seq, desvio_seq = calcular_media_desvio(dados_seq)\n",
    "media_par, desvio_par = calcular_media_desvio(dados_par)\n",
    "media_tot, desvio_tot = calcular_media_desvio(dados_tot)\n",
    "\n",
    "# Imprimindo os resultados\n",
    "print(f'Média da sequência (seq): {media_seq}, Desvio Padrão: {desvio_seq}')\n",
    "print(f'Média do par (par): {media_par}, Desvio Padrão: {desvio_par}')\n",
    "print(f'Média total (tot): {media_tot}, Desvio Padrão: {desvio_tot}')"
   ]
  },
  {
   "cell_type": "markdown",
   "id": "e6ebc081",
   "metadata": {},
   "source": [
    "# Paralelo 2 threads entrada 17"
   ]
  },
  {
   "cell_type": "code",
   "execution_count": 6,
   "id": "53cdea54",
   "metadata": {},
   "outputs": [
    {
     "name": "stdout",
     "output_type": "stream",
     "text": [
      "Média da sequência (seq): 0.00013155, Desvio Padrão: 1.8717571957922322e-05\n",
      "Média do par (par): 165.9685832, Desvio Padrão: 0.07587565008789182\n",
      "Média total (tot): 165.9687152, Desvio Padrão: 0.07587547632444\n"
     ]
    }
   ],
   "source": [
    "import numpy as np\n",
    "\n",
    "# Função para calcular a média e desvio padrão\n",
    "def calcular_media_desvio(dados):\n",
    "    media = np.mean(dados)\n",
    "    desvio_padrao = np.std(dados)\n",
    "    return media, desvio_padrao\n",
    "\n",
    "# Leitura do arquivo\n",
    "with open('saida_paralela_2threads17.txt', 'r') as arquivo:\n",
    "    # Lendo a primeira linha de metadados\n",
    "    metadados = arquivo.readline().strip().split()\n",
    "    # Inicializando listas para armazenar os dados\n",
    "    dados_seq = []\n",
    "    dados_par = []\n",
    "    dados_tot = []\n",
    "\n",
    "    # Lendo os dados\n",
    "    for _ in range(20):\n",
    "        linha = arquivo.readline().strip().split()\n",
    "        dados_seq.append(float(linha[1]))\n",
    "        dados_par.append(float(linha[2]))\n",
    "        dados_tot.append(float(linha[3]))\n",
    "\n",
    "# Calculando média e desvio padrão\n",
    "media_seq, desvio_seq = calcular_media_desvio(dados_seq)\n",
    "media_par, desvio_par = calcular_media_desvio(dados_par)\n",
    "media_tot, desvio_tot = calcular_media_desvio(dados_tot)\n",
    "\n",
    "# Imprimindo os resultados\n",
    "print(f'Média da sequência (seq): {media_seq}, Desvio Padrão: {desvio_seq}')\n",
    "print(f'Média do par (par): {media_par}, Desvio Padrão: {desvio_par}')\n",
    "print(f'Média total (tot): {media_tot}, Desvio Padrão: {desvio_tot}')"
   ]
  },
  {
   "cell_type": "markdown",
   "id": "896b381e",
   "metadata": {},
   "source": [
    "# Paralelo 4 threads entrada 15 "
   ]
  },
  {
   "cell_type": "code",
   "execution_count": 7,
   "id": "5f57cc52",
   "metadata": {},
   "outputs": [
    {
     "name": "stdout",
     "output_type": "stream",
     "text": [
      "Média da sequência (seq): 0.00012065, Desvio Padrão: 1.5156764166536339e-05\n",
      "Média do par (par): 29.46284915, Desvio Padrão: 0.8537036320523228\n",
      "Média total (tot): 29.462970049999996, Desvio Padrão: 0.8537094768004788\n"
     ]
    }
   ],
   "source": [
    "import numpy as np\n",
    "\n",
    "# Função para calcular a média e desvio padrão\n",
    "def calcular_media_desvio(dados):\n",
    "    media = np.mean(dados)\n",
    "    desvio_padrao = np.std(dados)\n",
    "    return media, desvio_padrao\n",
    "\n",
    "# Leitura do arquivo\n",
    "with open('saida_paralela_mathread15.txt', 'r') as arquivo:\n",
    "    # Lendo a primeira linha de metadados\n",
    "    metadados = arquivo.readline().strip().split()\n",
    "    # Inicializando listas para armazenar os dados\n",
    "    dados_seq = []\n",
    "    dados_par = []\n",
    "    dados_tot = []\n",
    "\n",
    "    # Lendo os dados\n",
    "    for _ in range(20):\n",
    "        linha = arquivo.readline().strip().split()\n",
    "        dados_seq.append(float(linha[1]))\n",
    "        dados_par.append(float(linha[2]))\n",
    "        dados_tot.append(float(linha[3]))\n",
    "\n",
    "# Calculando média e desvio padrão\n",
    "media_seq, desvio_seq = calcular_media_desvio(dados_seq)\n",
    "media_par, desvio_par = calcular_media_desvio(dados_par)\n",
    "media_tot, desvio_tot = calcular_media_desvio(dados_tot)\n",
    "\n",
    "# Imprimindo os resultados\n",
    "print(f'Média da sequência (seq): {media_seq}, Desvio Padrão: {desvio_seq}')\n",
    "print(f'Média do par (par): {media_par}, Desvio Padrão: {desvio_par}')\n",
    "print(f'Média total (tot): {media_tot}, Desvio Padrão: {desvio_tot}')"
   ]
  },
  {
   "cell_type": "markdown",
   "id": "65e910df",
   "metadata": {},
   "source": [
    "# Paralelo 4 threads entrada 16 "
   ]
  },
  {
   "cell_type": "code",
   "execution_count": 8,
   "id": "72448878",
   "metadata": {},
   "outputs": [
    {
     "name": "stdout",
     "output_type": "stream",
     "text": [
      "Média da sequência (seq): 0.00012705, Desvio Padrão: 1.607008089587604e-05\n",
      "Média do par (par): 52.94888105, Desvio Padrão: 0.8729846235647842\n",
      "Média total (tot): 52.94900835, Desvio Padrão: 0.8729872975164796\n"
     ]
    }
   ],
   "source": [
    "import numpy as np\n",
    "\n",
    "# Função para calcular a média e desvio padrão\n",
    "def calcular_media_desvio(dados):\n",
    "    media = np.mean(dados)\n",
    "    desvio_padrao = np.std(dados)\n",
    "    return media, desvio_padrao\n",
    "\n",
    "# Leitura do arquivo\n",
    "with open('saida_paralela_maxthreads16.txt', 'r') as arquivo:\n",
    "    # Lendo a primeira linha de metadados\n",
    "    metadados = arquivo.readline().strip().split()\n",
    "    # Inicializando listas para armazenar os dados\n",
    "    dados_seq = []\n",
    "    dados_par = []\n",
    "    dados_tot = []\n",
    "\n",
    "    # Lendo os dados\n",
    "    for _ in range(20):\n",
    "        linha = arquivo.readline().strip().split()\n",
    "        dados_seq.append(float(linha[1]))\n",
    "        dados_par.append(float(linha[2]))\n",
    "        dados_tot.append(float(linha[3]))\n",
    "\n",
    "# Calculando média e desvio padrão\n",
    "media_seq, desvio_seq = calcular_media_desvio(dados_seq)\n",
    "media_par, desvio_par = calcular_media_desvio(dados_par)\n",
    "media_tot, desvio_tot = calcular_media_desvio(dados_tot)\n",
    "\n",
    "# Imprimindo os resultados\n",
    "print(f'Média da sequência (seq): {media_seq}, Desvio Padrão: {desvio_seq}')\n",
    "print(f'Média do par (par): {media_par}, Desvio Padrão: {desvio_par}')\n",
    "print(f'Média total (tot): {media_tot}, Desvio Padrão: {desvio_tot}')"
   ]
  },
  {
   "cell_type": "markdown",
   "id": "9482b536",
   "metadata": {},
   "source": [
    "# Paralelo 4 threads entrada 17"
   ]
  },
  {
   "cell_type": "code",
   "execution_count": 9,
   "id": "d2d3fe33",
   "metadata": {},
   "outputs": [
    {
     "name": "stdout",
     "output_type": "stream",
     "text": [
      "Média da sequência (seq): 0.00012795000000000002, Desvio Padrão: 2.3726514704018372e-05\n",
      "Média do par (par): 141.495082, Desvio Padrão: 1.8325160089516577\n",
      "Média total (tot): 141.49521035, Desvio Padrão: 1.8325205875277748\n"
     ]
    }
   ],
   "source": [
    "import numpy as np\n",
    "\n",
    "# Função para calcular a média e desvio padrão\n",
    "def calcular_media_desvio(dados):\n",
    "    media = np.mean(dados)\n",
    "    desvio_padrao = np.std(dados)\n",
    "    return media, desvio_padrao\n",
    "\n",
    "# Leitura do arquivo\n",
    "with open('saida_paralela_maxthreads17.txt', 'r') as arquivo:\n",
    "    # Lendo a primeira linha de metadados\n",
    "    metadados = arquivo.readline().strip().split()\n",
    "    # Inicializando listas para armazenar os dados\n",
    "    dados_seq = []\n",
    "    dados_par = []\n",
    "    dados_tot = []\n",
    "\n",
    "    # Lendo os dados\n",
    "    for _ in range(20):\n",
    "        linha = arquivo.readline().strip().split()\n",
    "        dados_seq.append(float(linha[1]))\n",
    "        dados_par.append(float(linha[2]))\n",
    "        dados_tot.append(float(linha[3]))\n",
    "\n",
    "# Calculando média e desvio padrão\n",
    "media_seq, desvio_seq = calcular_media_desvio(dados_seq)\n",
    "media_par, desvio_par = calcular_media_desvio(dados_par)\n",
    "media_tot, desvio_tot = calcular_media_desvio(dados_tot)\n",
    "\n",
    "# Imprimindo os resultados\n",
    "print(f'Média da sequência (seq): {media_seq}, Desvio Padrão: {desvio_seq}')\n",
    "print(f'Média do par (par): {media_par}, Desvio Padrão: {desvio_par}')\n",
    "print(f'Média total (tot): {media_tot}, Desvio Padrão: {desvio_tot}')"
   ]
  },
  {
   "cell_type": "code",
   "execution_count": null,
   "id": "c8adc39d",
   "metadata": {},
   "outputs": [],
   "source": []
  },
  {
   "cell_type": "code",
   "execution_count": null,
   "id": "5af254e2",
   "metadata": {},
   "outputs": [],
   "source": []
  }
 ],
 "metadata": {
  "kernelspec": {
   "display_name": "Python 3 (ipykernel)",
   "language": "python",
   "name": "python3"
  },
  "language_info": {
   "codemirror_mode": {
    "name": "ipython",
    "version": 3
   },
   "file_extension": ".py",
   "mimetype": "text/x-python",
   "name": "python",
   "nbconvert_exporter": "python",
   "pygments_lexer": "ipython3",
   "version": "3.9.13"
  }
 },
 "nbformat": 4,
 "nbformat_minor": 5
}
