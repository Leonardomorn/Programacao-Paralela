{
 "cells": [
  {
   "cell_type": "code",
   "execution_count": 1,
   "id": "6110ad57",
   "metadata": {},
   "outputs": [
    {
     "name": "stdout",
     "output_type": "stream",
     "text": [
      "Média da sequência (seq): 0.0009663499999999998, Desvio Padrão: 0.0029752202821808\n",
      "Média do par (par): 53.104465749999996, Desvio Padrão: 0.035542405454435454\n",
      "Média total (tot): 53.10543235, Desvio Padrão: 0.03541963638615648\n"
     ]
    }
   ],
   "source": [
    "import numpy as np\n",
    "\n",
    "# Função para calcular a média e desvio padrão\n",
    "def calcular_media_desvio(dados):\n",
    "    media = np.mean(dados)\n",
    "    desvio_padrao = np.std(dados)\n",
    "    return media, desvio_padrao\n",
    "\n",
    "# Leitura do arquivo\n",
    "with open('saida_sequencial15.txt', 'r') as arquivo:\n",
    "    # Lendo a primeira linha de metadados\n",
    "    metadados = arquivo.readline().strip().split()\n",
    "    # Inicializando listas para armazenar os dados\n",
    "    dados_seq = []\n",
    "    dados_par = []\n",
    "    dados_tot = []\n",
    "\n",
    "    # Lendo os dados\n",
    "    for _ in range(20):\n",
    "        linha = arquivo.readline().strip().split()\n",
    "        dados_seq.append(float(linha[1]))\n",
    "        dados_par.append(float(linha[2]))\n",
    "        dados_tot.append(float(linha[3]))\n",
    "\n",
    "# Calculando média e desvio padrão\n",
    "media_seq, desvio_seq = calcular_media_desvio(dados_seq)\n",
    "media_par, desvio_par = calcular_media_desvio(dados_par)\n",
    "media_tot, desvio_tot = calcular_media_desvio(dados_tot)\n",
    "\n",
    "# Imprimindo os resultados\n",
    "print(f'Média da sequência (seq): {media_seq}, Desvio Padrão: {desvio_seq}')\n",
    "print(f'Média do par (par): {media_par}, Desvio Padrão: {desvio_par}')\n",
    "print(f'Média total (tot): {media_tot}, Desvio Padrão: {desvio_tot}')"
   ]
  },
  {
   "cell_type": "code",
   "execution_count": 2,
   "id": "68808b77",
   "metadata": {},
   "outputs": [
    {
     "name": "stdout",
     "output_type": "stream",
     "text": [
      "Média da sequência (seq): 0.00094855, Desvio Padrão: 0.002840763638090998\n",
      "Média do par (par): 116.64518065, Desvio Padrão: 0.11995805471633653\n",
      "Média total (tot): 116.64612930000003, Desvio Padrão: 0.1222797308408478\n"
     ]
    }
   ],
   "source": [
    "import numpy as np\n",
    "\n",
    "# Função para calcular a média e desvio padrão\n",
    "def calcular_media_desvio(dados):\n",
    "    media = np.mean(dados)\n",
    "    desvio_padrao = np.std(dados)\n",
    "    return media, desvio_padrao\n",
    "\n",
    "# Leitura do arquivo\n",
    "with open('saida_sequencial16.txt', 'r') as arquivo:\n",
    "    # Lendo a primeira linha de metadados\n",
    "    metadados = arquivo.readline().strip().split()\n",
    "    # Inicializando listas para armazenar os dados\n",
    "    dados_seq = []\n",
    "    dados_par = []\n",
    "    dados_tot = []\n",
    "\n",
    "    # Lendo os dados\n",
    "    for _ in range(20):\n",
    "        linha = arquivo.readline().strip().split()\n",
    "        dados_seq.append(float(linha[1]))\n",
    "        dados_par.append(float(linha[2]))\n",
    "        dados_tot.append(float(linha[3]))\n",
    "\n",
    "# Calculando média e desvio padrão\n",
    "media_seq, desvio_seq = calcular_media_desvio(dados_seq)\n",
    "media_par, desvio_par = calcular_media_desvio(dados_par)\n",
    "media_tot, desvio_tot = calcular_media_desvio(dados_tot)\n",
    "\n",
    "# Imprimindo os resultados\n",
    "print(f'Média da sequência (seq): {media_seq}, Desvio Padrão: {desvio_seq}')\n",
    "print(f'Média do par (par): {media_par}, Desvio Padrão: {desvio_par}')\n",
    "print(f'Média total (tot): {media_tot}, Desvio Padrão: {desvio_tot}')"
   ]
  },
  {
   "cell_type": "code",
   "execution_count": 3,
   "id": "dc8e6adc",
   "metadata": {},
   "outputs": [
    {
     "name": "stdout",
     "output_type": "stream",
     "text": [
      "Média da sequência (seq): 0.00033165, Desvio Padrão: 0.00012876267898735252\n",
      "Média do par (par): 264.95258145, Desvio Padrão: 0.15912477674971945\n",
      "Média total (tot): 264.95291345, Desvio Padrão: 0.15910902283355483\n"
     ]
    }
   ],
   "source": [
    "import numpy as np\n",
    "\n",
    "# Função para calcular a média e desvio padrão\n",
    "def calcular_media_desvio(dados):\n",
    "    media = np.mean(dados)\n",
    "    desvio_padrao = np.std(dados)\n",
    "    return media, desvio_padrao\n",
    "\n",
    "# Leitura do arquivo\n",
    "with open('saida_sequencial17.txt', 'r') as arquivo:\n",
    "    # Lendo a primeira linha de metadados\n",
    "    metadados = arquivo.readline().strip().split()\n",
    "    # Inicializando listas para armazenar os dados\n",
    "    dados_seq = []\n",
    "    dados_par = []\n",
    "    dados_tot = []\n",
    "\n",
    "    # Lendo os dados\n",
    "    for _ in range(20):\n",
    "        linha = arquivo.readline().strip().split()\n",
    "        dados_seq.append(float(linha[1]))\n",
    "        dados_par.append(float(linha[2]))\n",
    "        dados_tot.append(float(linha[3]))\n",
    "\n",
    "# Calculando média e desvio padrão\n",
    "media_seq, desvio_seq = calcular_media_desvio(dados_seq)\n",
    "media_par, desvio_par = calcular_media_desvio(dados_par)\n",
    "media_tot, desvio_tot = calcular_media_desvio(dados_tot)\n",
    "\n",
    "# Imprimindo os resultados\n",
    "print(f'Média da sequência (seq): {media_seq}, Desvio Padrão: {desvio_seq}')\n",
    "print(f'Média do par (par): {media_par}, Desvio Padrão: {desvio_par}')\n",
    "print(f'Média total (tot): {media_tot}, Desvio Padrão: {desvio_tot}')"
   ]
  },
  {
   "cell_type": "code",
   "execution_count": null,
   "id": "9e356459",
   "metadata": {},
   "outputs": [],
   "source": []
  }
 ],
 "metadata": {
  "kernelspec": {
   "display_name": "Python 3 (ipykernel)",
   "language": "python",
   "name": "python3"
  },
  "language_info": {
   "codemirror_mode": {
    "name": "ipython",
    "version": 3
   },
   "file_extension": ".py",
   "mimetype": "text/x-python",
   "name": "python",
   "nbconvert_exporter": "python",
   "pygments_lexer": "ipython3",
   "version": "3.9.13"
  }
 },
 "nbformat": 4,
 "nbformat_minor": 5
}
